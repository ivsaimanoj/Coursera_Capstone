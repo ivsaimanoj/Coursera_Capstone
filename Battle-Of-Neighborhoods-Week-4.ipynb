{
 "cells": [
  {
   "cell_type": "markdown",
   "metadata": {},
   "source": [
    "# The Battle of Neighborhoods (Week 1)"
   ]
  },
  {
   "cell_type": "markdown",
   "metadata": {},
   "source": [
    "## Problem Background"
   ]
  },
  {
   "cell_type": "markdown",
   "metadata": {},
   "source": [
    "An established well-known business man and investor from India, who wants to stay anonymous until an official public announcement, has invited multiple sales, marketing and engineering teams from all over the world to help him in providing with a decision to choose a city in United States or Canada to expand his widely famous and high quality Indian sweets and delicacies manufacturing center. \n",
    "\n",
    "Indian sweets either be it in Canada or United States are being accepted and tasted around the world with all types of cultures and societies, and by opening up this famous manufacturing center it's expected to attract more customers from a global diaspora. Overall, this will be a win-win scenario for both the business and the customers too. Due to their high quality and extremely tasty food items, the customers will get a chance to taste a new variety without travelling the world and the business will benefit from an increased audience outside Indian communities.\n",
    "\n",
    "In order to do an experiment, the investor wishes to open up a small food-stall with all the signature delicacies and later expand to build a full size manufacturing unit."
   ]
  },
  {
   "cell_type": "markdown",
   "metadata": {},
   "source": [
    "## Problem Description"
   ]
  },
  {
   "cell_type": "markdown",
   "metadata": {},
   "source": [
    "One of the marketing and engineering teams together form a Data Science team to help this investor in getting the data required for the investor to make an appropriate decision based on the data they will collect by comparing the facts from locations with a high cultural diversity in both the countries - New York City (United States) and Toronto (Canada).\n",
    "\n",
    "The team has to gather the available data, do the required data processing, analysis, segmentation and exploration of different parts of the cities and provide a report which will encompass information such as:\n",
    "\n",
    "- Number / Density of current restaurants or food stalls\n",
    "- Possible locations for growth\n",
    "etc.\n",
    "\n",
    "There must be enough information out of this report, including the analysis and summarizations done on each location, which should help the investor to make an appropriate decision."
   ]
  },
  {
   "cell_type": "markdown",
   "metadata": {},
   "source": [
    "## Data"
   ]
  },
  {
   "cell_type": "markdown",
   "metadata": {},
   "source": [
    "I will use the publicly available data on New York city and Toronto, which was used in previous modules, along with the Foursquare API to gather all the required information. If required, I will also search for other available data sets which are publicly visible and can provide an additional insight into creating a report for a wise decision making.\n",
    "\n",
    "The reference URLs which I will begin to use are mentioned below. I will also add more data sets as and when I progress with creating the report.\n",
    "\n",
    "- https://en.wikipedia.org/wiki/List_of_postal_codes_of_Canada:_M\n",
    "- https://geo.nyu.edu/catalog/nyu_2451_34572\n"
   ]
  },
  {
   "cell_type": "code",
   "execution_count": null,
   "metadata": {},
   "outputs": [],
   "source": []
  }
 ],
 "metadata": {
  "kernelspec": {
   "display_name": "Python 3",
   "language": "python",
   "name": "python3"
  },
  "language_info": {
   "codemirror_mode": {
    "name": "ipython",
    "version": 3
   },
   "file_extension": ".py",
   "mimetype": "text/x-python",
   "name": "python",
   "nbconvert_exporter": "python",
   "pygments_lexer": "ipython3",
   "version": "3.7.4"
  }
 },
 "nbformat": 4,
 "nbformat_minor": 2
}
